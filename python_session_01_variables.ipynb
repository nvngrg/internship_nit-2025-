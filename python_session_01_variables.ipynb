{
 "cells": [
  {
   "cell_type": "markdown",
   "id": "37a8d48c-a65d-4bf8-91de-3111bca28d95",
   "metadata": {},
   "source": [
    "# Variables "
   ]
  },
  {
   "cell_type": "markdown",
   "id": "31efc063-83c7-4f16-b7a8-d76b3a08aeba",
   "metadata": {},
   "source": [
    "- variable is use to store the values\n",
    "- variables can chang their values\n",
    "- in python letest values will be consider.\n",
    "- python is step by step process"
   ]
  },
  {
   "cell_type": "code",
   "execution_count": 1,
   "id": "c325a48b-14ee-4fe2-93b7-ba126c5e2143",
   "metadata": {},
   "outputs": [
    {
     "data": {
      "text/plain": [
       "10"
      ]
     },
     "execution_count": 1,
     "metadata": {},
     "output_type": "execute_result"
    }
   ],
   "source": [
    "num=10\n",
    "num # value 10 is stored on num variable"
   ]
  },
  {
   "cell_type": "code",
   "execution_count": 2,
   "id": "4d1e09a8-8dda-4c73-8213-355ed7c8d4b5",
   "metadata": {},
   "outputs": [
    {
     "data": {
      "text/plain": [
       "100"
      ]
     },
     "execution_count": 2,
     "metadata": {},
     "output_type": "execute_result"
    }
   ],
   "source": [
    "NUM=100\n",
    "NUM"
   ]
  },
  {
   "cell_type": "code",
   "execution_count": 3,
   "id": "10345021-edcc-45f7-8e4e-3be6acff7830",
   "metadata": {},
   "outputs": [
    {
     "data": {
      "text/plain": [
       "100"
      ]
     },
     "execution_count": 3,
     "metadata": {},
     "output_type": "execute_result"
    }
   ],
   "source": [
    "Num=100\n",
    "Num"
   ]
  },
  {
   "cell_type": "code",
   "execution_count": 4,
   "id": "1311c8e6-d05d-49fd-9bbf-eebb24dd2947",
   "metadata": {},
   "outputs": [
    {
     "data": {
      "text/plain": [
       "200"
      ]
     },
     "execution_count": 4,
     "metadata": {},
     "output_type": "execute_result"
    }
   ],
   "source": [
    "num123=200\n",
    "num123"
   ]
  },
  {
   "cell_type": "code",
   "execution_count": 5,
   "id": "16bf18dd-41b4-476b-9a1a-aea70df59309",
   "metadata": {},
   "outputs": [
    {
     "ename": "SyntaxError",
     "evalue": "invalid decimal literal (189891495.py, line 1)",
     "output_type": "error",
     "traceback": [
      "\u001b[1;36m  Cell \u001b[1;32mIn[5], line 1\u001b[1;36m\u001b[0m\n\u001b[1;33m    123num=300\u001b[0m\n\u001b[1;37m      ^\u001b[0m\n\u001b[1;31mSyntaxError\u001b[0m\u001b[1;31m:\u001b[0m invalid decimal literal\n"
     ]
    }
   ],
   "source": [
    "123num=300\n",
    "123num # variable name can't start with number"
   ]
  },
  {
   "cell_type": "code",
   "execution_count": 6,
   "id": "30886dce-d7b5-47d3-96ca-61a57bae50d6",
   "metadata": {},
   "outputs": [
    {
     "ename": "SyntaxError",
     "evalue": "cannot assign to expression here. Maybe you meant '==' instead of '='? (2842441409.py, line 1)",
     "output_type": "error",
     "traceback": [
      "\u001b[1;36m  Cell \u001b[1;32mIn[6], line 1\u001b[1;36m\u001b[0m\n\u001b[1;33m    num@one=123\u001b[0m\n\u001b[1;37m    ^\u001b[0m\n\u001b[1;31mSyntaxError\u001b[0m\u001b[1;31m:\u001b[0m cannot assign to expression here. Maybe you meant '==' instead of '='?\n"
     ]
    }
   ],
   "source": [
    "num@one=123\n",
    "num@one # variable name can't hold symbols other than _ "
   ]
  },
  {
   "cell_type": "code",
   "execution_count": 7,
   "id": "342150a0-e229-455f-bd36-3bcde16ca779",
   "metadata": {},
   "outputs": [
    {
     "ename": "SyntaxError",
     "evalue": "invalid syntax (803134326.py, line 1)",
     "output_type": "error",
     "traceback": [
      "\u001b[1;36m  Cell \u001b[1;32mIn[7], line 1\u001b[1;36m\u001b[0m\n\u001b[1;33m    num one=100\u001b[0m\n\u001b[1;37m        ^\u001b[0m\n\u001b[1;31mSyntaxError\u001b[0m\u001b[1;31m:\u001b[0m invalid syntax\n"
     ]
    }
   ],
   "source": [
    "num one=100\n",
    "num one # variable name can't hold space"
   ]
  },
  {
   "cell_type": "code",
   "execution_count": 8,
   "id": "45ef8576-db27-4c4d-afb7-ac8174d7d887",
   "metadata": {},
   "outputs": [
    {
     "data": {
      "text/plain": [
       "100"
      ]
     },
     "execution_count": 8,
     "metadata": {},
     "output_type": "execute_result"
    }
   ],
   "source": [
    "num_one=100\n",
    "num_one # only _ allow in variable name"
   ]
  },
  {
   "cell_type": "code",
   "execution_count": 9,
   "id": "48c2740b-7882-4bc1-8a93-8e845b9b9d00",
   "metadata": {},
   "outputs": [
    {
     "data": {
      "text/plain": [
       "200"
      ]
     },
     "execution_count": 9,
     "metadata": {},
     "output_type": "execute_result"
    }
   ],
   "source": [
    "_=200\n",
    "_ # only _ also will works"
   ]
  },
  {
   "cell_type": "code",
   "execution_count": 10,
   "id": "45277b53-b4d0-4482-8473-05b872bd1c6e",
   "metadata": {},
   "outputs": [
    {
     "ename": "SyntaxError",
     "evalue": "invalid syntax (344703051.py, line 1)",
     "output_type": "error",
     "traceback": [
      "\u001b[1;36m  Cell \u001b[1;32mIn[10], line 1\u001b[1;36m\u001b[0m\n\u001b[1;33m    if=100\u001b[0m\n\u001b[1;37m      ^\u001b[0m\n\u001b[1;31mSyntaxError\u001b[0m\u001b[1;31m:\u001b[0m invalid syntax\n"
     ]
    }
   ],
   "source": [
    "if=100\n",
    "if # keyword cant be use as varqiable name"
   ]
  },
  {
   "cell_type": "code",
   "execution_count": 11,
   "id": "dfb9feb3-1f33-4a04-9efe-ff3b28d1ffdc",
   "metadata": {},
   "outputs": [
    {
     "ename": "SyntaxError",
     "evalue": "invalid syntax (849217708.py, line 1)",
     "output_type": "error",
     "traceback": [
      "\u001b[1;36m  Cell \u001b[1;32mIn[11], line 1\u001b[1;36m\u001b[0m\n\u001b[1;33m    while=500\u001b[0m\n\u001b[1;37m         ^\u001b[0m\n\u001b[1;31mSyntaxError\u001b[0m\u001b[1;31m:\u001b[0m invalid syntax\n"
     ]
    }
   ],
   "source": [
    "while=500\n",
    "while"
   ]
  },
  {
   "cell_type": "markdown",
   "id": "cffae6fe-a5d7-4f04-a523-c4eb1e7c1a93",
   "metadata": {},
   "source": [
    "- variable are case sensitive\n",
    "\n",
    "- variable name cdan be CAPILAT or small leter\n",
    "\n",
    "- Variable name not alow specical chtrater except ubderscore__ _\n",
    "\n",
    "- only one _ can be a variable name\n",
    "\n",
    "- Variable can't contain space\n",
    "\n",
    "- varaable name can't take number as prefix but can hold suffix\n",
    "\n",
    "- variable name can't be a keyword"
   ]
  },
  {
   "cell_type": "code",
   "execution_count": null,
   "id": "c2c7f047-bee7-4753-87da-8f782d829e62",
   "metadata": {},
   "outputs": [],
   "source": []
  }
 ],
 "metadata": {
  "kernelspec": {
   "display_name": "Python 3 (ipykernel)",
   "language": "python",
   "name": "python3"
  },
  "language_info": {
   "codemirror_mode": {
    "name": "ipython",
    "version": 3
   },
   "file_extension": ".py",
   "mimetype": "text/x-python",
   "name": "python",
   "nbconvert_exporter": "python",
   "pygments_lexer": "ipython3",
   "version": "3.12.4"
  },
  "widgets": {
   "application/vnd.jupyter.widget-state+json": {
    "state": {},
    "version_major": 2,
    "version_minor": 0
   }
  }
 },
 "nbformat": 4,
 "nbformat_minor": 5
}
